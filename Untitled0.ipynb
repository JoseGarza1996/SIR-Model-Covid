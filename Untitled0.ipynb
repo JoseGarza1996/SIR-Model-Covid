{
  "nbformat": 4,
  "nbformat_minor": 0,
  "metadata": {
    "colab": {
      "provenance": [],
      "authorship_tag": "ABX9TyN1EB+qIG+eaQxC+ZMpgJbW",
      "include_colab_link": true
    },
    "kernelspec": {
      "name": "python3",
      "display_name": "Python 3"
    },
    "language_info": {
      "name": "python"
    }
  },
  "cells": [
    {
      "cell_type": "markdown",
      "metadata": {
        "id": "view-in-github",
        "colab_type": "text"
      },
      "source": [
        "<a href=\"https://colab.research.google.com/github/JoseGarza1996/SIR-Model-Covid/blob/main/Untitled0.ipynb\" target=\"_parent\"><img src=\"https://colab.research.google.com/assets/colab-badge.svg\" alt=\"Open In Colab\"/></a>"
      ]
    },
    {
      "cell_type": "code",
      "execution_count": 1,
      "metadata": {
        "id": "47QZYq70IZdw"
      },
      "outputs": [],
      "source": [
        "import numpy as np\n",
        "import matplotlib.pyplot as plt"
      ]
    },
    {
      "cell_type": "code",
      "source": [
        "def f(t, x, beta):\n",
        "\n",
        "    # This means s = x[0], i = x[1] and r = x[2], which is are more\n",
        "    # intuitive names.\n",
        "    s, i, r = x\n",
        "    \n",
        "    gamma = 1./10.\n",
        "    \n",
        "    dsdt = -beta * s * i \n",
        "    didt = beta * s * i - gamma * i\n",
        "    drdt = gamma * i\n",
        "     \n",
        "    \n",
        "    return np.array([\n",
        "        dsdt,\n",
        "        didt,\n",
        "        drdt])"
      ],
      "metadata": {
        "id": "5WGsf4XNIj6z"
      },
      "execution_count": 2,
      "outputs": []
    },
    {
      "cell_type": "code",
      "source": [
        "def run(f, axis,c):\n",
        "    \"\"\"\n",
        "    This function solves the differential equation given by \"f\"\n",
        "    and plots the results into the plot given by \"axsis\".\n",
        "    \"\"\"\n",
        "\n",
        "    # Inital values\n",
        "    s = 1. - 100./(3*10**8 )\n",
        "    i = 100./(3*10**8)\n",
        "    r = 0.\n",
        "\n",
        "    x = np.array([s, i, r])\n",
        "\n",
        "\n",
        "    t = 0.   # initial time\n",
        "    T = 400. # final time\n",
        "    h = 0.5  # step size for Euler's method\n",
        "\n",
        "    # Maximal fraction of infected so far\n",
        "    max_infected = x[1]\n",
        "    # Euler's method\n",
        "    n = int(T/h)\n",
        "    \n",
        "    for i in range(n):\n",
        "        p =  h*f(t, x, c)\n",
        "        x += p\n",
        "        t += h\n",
        "\n",
        "        # Update the maximal fraction of infected up to the current time.\n",
        "        max_infected = max(x[1], max_infected)  \n",
        "\n",
        "        # The followis adds three points to the figure in 'axis', one for\n",
        "        # susceptible, infected and recorvered at the current time,\n",
        "        # respectively.\n",
        "        axis.plot(t, x[0], 'bo', label='s')\n",
        "        axis.plot(t, x[1], 'ro', label='i')\n",
        "        axis.plot(t, x[2], 'go', label='r')\n",
        "    \n",
        "\n",
        "    axis.legend(['s', 'i', 'r'], loc = 2)\n",
        "    print('maximal infected:', max_infected)\n",
        "    print('final recovered: ', x[2])"
      ],
      "metadata": {
        "id": "b8JpSF8GIrae"
      },
      "execution_count": 3,
      "outputs": []
    },
    {
      "cell_type": "code",
      "source": [
        "print('Model f:')\n",
        "# The following selects one figure. The number '221' means\n",
        "# 2 figures horizontally, 2 figures vertically and select the 1st figure\n",
        "\n",
        "# Run the simulation by Euler's method for the given model and plot the\n",
        "# results into axis\n",
        "plt.figure(1)\n",
        "axis = plt.subplot(111)\n",
        "run(f, axis, 2.5/10.)\n",
        "plt.savefig(\"graph1.pdf\",nargout=0)\n",
        "plt.show()\n",
        "# Depending on your system the next line may or may not be required to\n",
        "# show the plots."
      ],
      "metadata": {
        "colab": {
          "base_uri": "https://localhost:8080/",
          "height": 352
        },
        "id": "19m73hAxIrLP",
        "outputId": "8709f4e1-4bd7-4b52-a34a-771ac0c18cb2"
      },
      "execution_count": 4,
      "outputs": [
        {
          "output_type": "stream",
          "name": "stdout",
          "text": [
            "Model f:\n",
            "maximal infected: 0.23723006109806402\n",
            "final recovered:  0.895833900359992\n"
          ]
        },
        {
          "output_type": "stream",
          "name": "stderr",
          "text": [
            "<ipython-input-4-29b5aa9ca351>:10: MatplotlibDeprecationWarning: savefig() got unexpected keyword argument \"nargout\" which is no longer supported as of 3.3 and will become an error in 3.6\n",
            "  plt.savefig(\"graph1.pdf\",nargout=0)\n"
          ]
        },
        {
          "output_type": "display_data",
          "data": {
            "text/plain": [
              "<Figure size 432x288 with 1 Axes>"
            ],
            "image/png": "[encoded data removed]"
          },
          "metadata": {
            "needs_background": "light"
          }
        }
      ]
    },
    {
      "cell_type": "code",
      "source": [
        "import numpy as np\n",
        "import matplotlib.pyplot as plt\n",
        "\n",
        "def f(t, x, beta):\n",
        "\n",
        "    # This means s = x[0], i = x[1] and r = x[2], which is are more\n",
        "    # intuitive names.\n",
        "    s, i, r = x\n",
        "    \n",
        "    gamma = 1./10.\n",
        "    \n",
        "    dsdt = -beta * s * i \n",
        "    didt = beta * s * i - gamma * i\n",
        "    drdt = gamma * i\n",
        "     \n",
        "    \n",
        "    return np.array([\n",
        "        dsdt,\n",
        "        didt,\n",
        "        drdt])\n",
        "\n",
        "def run(f, axis,c):\n",
        "    \"\"\"\n",
        "    This function solves the differential equation given by \"f\"\n",
        "    and plots the results into the plot given by \"axsis\".\n",
        "    \"\"\"\n",
        "\n",
        "    # Inital values\n",
        "    s = 1. - 100./(3*10**8 )\n",
        "    i = 100./(3*10**8)\n",
        "    r = 0.\n",
        "\n",
        "    x = np.array([s, i, r])\n",
        "\n",
        "\n",
        "    t = 0.   # initial time\n",
        "    T = 400. # final time\n",
        "    h = 0.5  # step size for Euler's method\n",
        "\n",
        "    # Maximal fraction of infected so far\n",
        "    max_infected = x[1]\n",
        "    # Euler's method\n",
        "    n = int(T/h)\n",
        "    \n",
        "    for i in range(n):\n",
        "        p =  h*f(t, x, c)\n",
        "        x += p\n",
        "        t += h\n",
        "\n",
        "        # Update the maximal fraction of infected up to the current time.\n",
        "        max_infected = max(x[1], max_infected)  \n",
        "\n",
        "        # The followis adds three points to the figure in 'axis', one for\n",
        "        # susceptible, infected and recorvered at the current time,\n",
        "        # respectively.\n",
        "        axis.plot(t, x[0], 'bo', label='s')\n",
        "        axis.plot(t, x[1], 'ro', label='i')\n",
        "        axis.plot(t, x[2], 'go', label='r')\n",
        "    \n",
        "\n",
        "    axis.legend(['s', 'i', 'r'], loc = 2)\n",
        "    print('maximal infected:', max_infected)\n",
        "    print('final recovered: ', x[2])\n",
        "\n",
        "print('Model f:')\n",
        "# The following selects one figure. The number '221' means\n",
        "# 2 figures horizontally, 2 figures vertically and select the 1st figure\n",
        "\n",
        "# Run the simulation by Euler's method for the given model and plot the\n",
        "# results into axis\n",
        "plt.figure(1)\n",
        "axis = plt.subplot(111)\n",
        "run(f, axis, 1.5/10.)\n",
        "plt.savefig(\"graph2.pdf\",nargout=0)\n",
        "plt.show()\n",
        "# Depending on your system the next line may or may not be required to\n",
        "# show the plots."
      ],
      "metadata": {
        "colab": {
          "base_uri": "https://localhost:8080/",
          "height": 352
        },
        "id": "pKzHZ4CjIq8E",
        "outputId": "2f4f2e4a-4466-4c10-cef5-0df079ff12ce"
      },
      "execution_count": 5,
      "outputs": [
        {
          "output_type": "stream",
          "name": "stdout",
          "text": [
            "Model f:\n",
            "maximal infected: 0.0634576102542357\n",
            "final recovered:  0.5790573369580909\n"
          ]
        },
        {
          "output_type": "stream",
          "name": "stderr",
          "text": [
            "<ipython-input-5-e3aeb3731a16>:74: MatplotlibDeprecationWarning: savefig() got unexpected keyword argument \"nargout\" which is no longer supported as of 3.3 and will become an error in 3.6\n",
            "  plt.savefig(\"graph2.pdf\",nargout=0)\n"
          ]
        },
        {
          "output_type": "display_data",
          "data": {
            "text/plain": [
              "<Figure size 432x288 with 1 Axes>"
            ],
            "image/png": "[encoded data removed]"
          },
          "metadata": {
            "needs_background": "light"
          }
        }
      ]
    },
    {
      "cell_type": "code",
      "source": [
        "def f(t, x, beta):\n",
        "\n",
        "    # This means s = x[0], i = x[1] and r = x[2], which is are more\n",
        "    # intuitive names.\n",
        "    s, i, r = x\n",
        "    \n",
        "    if t > 280:\n",
        "        beta = 2.5/10\n",
        "\n",
        "    gamma = 1./10.\n",
        "    \n",
        "    dsdt = -beta * s * i \n",
        "    didt = beta * s * i - gamma * i\n",
        "    drdt = gamma * i\n",
        "     \n",
        "    \n",
        "    return np.array([\n",
        "        dsdt,\n",
        "        didt,\n",
        "        drdt])\n",
        "\n",
        "def run(f, axis,c):\n",
        "    \"\"\"\n",
        "    This function solves the differential equation given by \"f\"\n",
        "    and plots the results into the plot given by \"axsis\".\n",
        "    \"\"\"\n",
        "\n",
        "    # Inital values\n",
        "    s = 1. - 100./(3*10**8 )\n",
        "    i = 100./(3*10**8)\n",
        "    r = 0.\n",
        "\n",
        "    x = np.array([s, i, r])\n",
        "\n",
        "\n",
        "    t = 0.   # initial time\n",
        "    T = 400. # final time\n",
        "    h = 0.5  # step size for Euler's method\n",
        "\n",
        "    # Maximal fraction of infected so far\n",
        "    max_infected = x[1]\n",
        "    # Euler's method\n",
        "    n = int(T/h)\n",
        "    \n",
        "    for i in range(n):\n",
        "        p =  h*f(t, x, c)\n",
        "        x += p\n",
        "        t += h\n",
        "\n",
        "        # Update the maximal fraction of infected up to the current time.\n",
        "        max_infected = max(x[1], max_infected)  \n",
        "\n",
        "        # The followis adds three points to the figure in 'axis', one for\n",
        "        # susceptible, infected and recorvered at the current time,\n",
        "        # respectively.\n",
        "        axis.plot(t, x[0], 'bo', label='s')\n",
        "        axis.plot(t, x[1], 'ro', label='i')\n",
        "        axis.plot(t, x[2], 'go', label='r')\n",
        "    \n",
        "\n",
        "    axis.legend(['s', 'i', 'r'], loc = 2)\n",
        "    print('maximal infected:', max_infected)\n",
        "    print('final recovered: ', x[2])\n",
        "\n",
        "print('Model f:')\n",
        "# The following selects one figure. The number '221' means\n",
        "# 2 figures horizontally, 2 figures vertically and select the 1st figure\n",
        "\n",
        "# Run the simulation by Euler's method for the given model and plot the\n",
        "# results into axis\n",
        "plt.figure(1)\n",
        "axis = plt.subplot(111)\n",
        "run(f, axis, 1.5/10)\n",
        "plt.savefig(\"graph3.pdf\",nargout=0)\n",
        "plt.show()\n",
        "# Depending on your system the next line may or may not be required to\n",
        "# show the plots."
      ],
      "metadata": {
        "colab": {
          "base_uri": "https://localhost:8080/",
          "height": 352
        },
        "id": "TjIUuG5SJX05",
        "outputId": "7102d525-bdfd-4a10-acfe-a95dd76a07ae"
      },
      "execution_count": 6,
      "outputs": [
        {
          "output_type": "stream",
          "name": "stdout",
          "text": [
            "Model f:\n",
            "maximal infected: 0.11928345893357198\n",
            "final recovered:  0.8347960190836066\n"
          ]
        },
        {
          "output_type": "stream",
          "name": "stderr",
          "text": [
            "<ipython-input-6-35042c0fa230>:74: MatplotlibDeprecationWarning: savefig() got unexpected keyword argument \"nargout\" which is no longer supported as of 3.3 and will become an error in 3.6\n",
            "  plt.savefig(\"graph3.pdf\",nargout=0)\n"
          ]
        },
        {
          "output_type": "display_data",
          "data": {
            "text/plain": [
              "<Figure size 432x288 with 1 Axes>"
            ],
            "image/png": "[encoded data removed]"
          },
          "metadata": {
            "needs_background": "light"
          }
        }
      ]
    },
    {
      "cell_type": "code",
      "source": [
        "def F(r, beta):\n",
        "    # C is our constant of integration solved as an initial value problem.\n",
        "    C = (-np.log(1. - 100./(3*10**8)))\n",
        "    return -(0.1/beta*(np.log(1 - r) + C))\n",
        "\n",
        "r = np.linspace(0,1,100)\n",
        "# Made a modification here to display the graph properly\n",
        "beta = np.linspace(0.5/10,.5,100)\n",
        "r, beta = np.meshgrid(r, beta)\n",
        "plt.contour(r, beta, F(r,beta), [1])\n",
        "plt.show()\n"
      ],
      "metadata": {
        "colab": {
          "base_uri": "https://localhost:8080/",
          "height": 304
        },
        "id": "JqUDj1kEJqVh",
        "outputId": "1fbf4a25-5760-41ea-e897-53901c4ab9d4"
      },
      "execution_count": 7,
      "outputs": [
        {
          "output_type": "stream",
          "name": "stderr",
          "text": [
            "<ipython-input-7-a9b8200d5e82>:4: RuntimeWarning: divide by zero encountered in log\n",
            "  return -(0.1/beta*(np.log(1 - r) + C))\n"
          ]
        },
        {
          "output_type": "display_data",
          "data": {
            "text/plain": [
              "<Figure size 432x288 with 1 Axes>"
            ],
            "image/png": "[encoded data removed]"
          },
          "metadata": {
            "needs_background": "light"
          }
        }
      ]
    }
  ]
}